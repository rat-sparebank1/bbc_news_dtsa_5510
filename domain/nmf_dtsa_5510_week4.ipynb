{
  "nbformat": 4,
  "nbformat_minor": 0,
  "metadata": {
    "colab": {
      "provenance": []
    },
    "kernelspec": {
      "name": "python3",
      "display_name": "Python 3"
    },
    "language_info": {
      "name": "python"
    }
  },
  "cells": [
    {
      "cell_type": "markdown",
      "source": [
        "# Introduction to the project\n",
        "\n",
        "Compare recommender system performance using non-negative matrix factorization vs a baseline found in assignment in week 3"
      ],
      "metadata": {
        "id": "0vSEHvwiXM-f"
      }
    },
    {
      "cell_type": "markdown",
      "source": [
        "## Transfering data from GitHub to Colab"
      ],
      "metadata": {
        "id": "e9kqwKdeWYZL"
      }
    },
    {
      "cell_type": "code",
      "source": [
        "!rm -rf /content/bbc_news_dtsa_5510\n",
        "!rm -rf /content/tmp_data\n",
        "!git clone https://github.com/rat-sparebank1/bbc_news_dtsa_5510.git"
      ],
      "metadata": {
        "colab": {
          "base_uri": "https://localhost:8080/"
        },
        "id": "DO9Mz2KNWTaP",
        "outputId": "d042ee19-8a18-4715-942d-81efa5ed3413"
      },
      "execution_count": 1,
      "outputs": [
        {
          "output_type": "stream",
          "name": "stdout",
          "text": [
            "Cloning into 'bbc_news_dtsa_5510'...\n",
            "remote: Enumerating objects: 48, done.\u001b[K\n",
            "remote: Counting objects: 100% (48/48), done.\u001b[K\n",
            "remote: Compressing objects: 100% (45/45), done.\u001b[K\n",
            "remote: Total 48 (delta 9), reused 0 (delta 0), pack-reused 0\u001b[K\n",
            "Receiving objects: 100% (48/48), 7.57 MiB | 12.03 MiB/s, done.\n",
            "Resolving deltas: 100% (9/9), done.\n"
          ]
        }
      ]
    },
    {
      "cell_type": "code",
      "source": [
        "!unzip -q bbc_news_dtsa_5510/data/hw3_dtsa_week3.zip -d /content/tmp_data"
      ],
      "metadata": {
        "id": "9DrfHIfrWmGj"
      },
      "execution_count": 2,
      "outputs": []
    },
    {
      "cell_type": "markdown",
      "source": [
        "## Importing data\n",
        "\n",
        "Using same code as in assignment week 3"
      ],
      "metadata": {
        "id": "Pq5HSuh-WunG"
      }
    },
    {
      "cell_type": "code",
      "source": [
        "import pandas as pd"
      ],
      "metadata": {
        "id": "7YUqbwhvXfAH"
      },
      "execution_count": 3,
      "outputs": []
    },
    {
      "cell_type": "code",
      "source": [
        "MV_users = pd.read_csv('tmp_data/users.csv')\n",
        "MV_movies = pd.read_csv('tmp_data/movies.csv')\n",
        "train = pd.read_csv('tmp_data/train.csv')\n",
        "test = pd.read_csv('tmp_data/test.csv')"
      ],
      "metadata": {
        "id": "kkhyO57jXCiG"
      },
      "execution_count": 4,
      "outputs": []
    },
    {
      "cell_type": "code",
      "source": [
        "print(MV_users)\n",
        "print(MV_movies)\n",
        "print(train)\n",
        "print(test)"
      ],
      "metadata": {
        "colab": {
          "base_uri": "https://localhost:8080/"
        },
        "id": "j3wBAlN7iQ9g",
        "outputId": "1f5ec28f-16b0-4dc1-8bc7-7972ecc95416"
      },
      "execution_count": 5,
      "outputs": [
        {
          "output_type": "stream",
          "name": "stdout",
          "text": [
            "       uID gender  age  accupation    zip\n",
            "0        1      F    1          10  48067\n",
            "1        2      M   56          16  70072\n",
            "2        3      M   25          15  55117\n",
            "3        4      M   45           7  02460\n",
            "4        5      M   25          20  55455\n",
            "...    ...    ...  ...         ...    ...\n",
            "6035  6036      F   25          15  32603\n",
            "6036  6037      F   45           1  76006\n",
            "6037  6038      F   56           1  14706\n",
            "6038  6039      F   45           0  01060\n",
            "6039  6040      M   25           6  11106\n",
            "\n",
            "[6040 rows x 5 columns]\n",
            "       mID                        title  year  Doc  Com  Hor  Adv  Wes  Dra  \\\n",
            "0        1                    Toy Story  1995    0    1    0    0    0    0   \n",
            "1        2                      Jumanji  1995    0    0    0    1    0    0   \n",
            "2        3             Grumpier Old Men  1995    0    1    0    0    0    0   \n",
            "3        4            Waiting to Exhale  1995    0    1    0    0    0    1   \n",
            "4        5  Father of the Bride Part II  1995    0    1    0    0    0    0   \n",
            "...    ...                          ...   ...  ...  ...  ...  ...  ...  ...   \n",
            "3878  3948             Meet the Parents  2000    0    1    0    0    0    0   \n",
            "3879  3949          Requiem for a Dream  2000    0    0    0    0    0    1   \n",
            "3880  3950                    Tigerland  2000    0    0    0    0    0    1   \n",
            "3881  3951             Two Family House  2000    0    0    0    0    0    1   \n",
            "3882  3952               Contender, The  2000    0    0    0    0    0    1   \n",
            "\n",
            "      Ani  ...  Chi  Cri  Thr  Sci  Mys  Rom  Fil  Fan  Act  Mus  \n",
            "0       1  ...    1    0    0    0    0    0    0    0    0    0  \n",
            "1       0  ...    1    0    0    0    0    0    0    1    0    0  \n",
            "2       0  ...    0    0    0    0    0    1    0    0    0    0  \n",
            "3       0  ...    0    0    0    0    0    0    0    0    0    0  \n",
            "4       0  ...    0    0    0    0    0    0    0    0    0    0  \n",
            "...   ...  ...  ...  ...  ...  ...  ...  ...  ...  ...  ...  ...  \n",
            "3878    0  ...    0    0    0    0    0    0    0    0    0    0  \n",
            "3879    0  ...    0    0    0    0    0    0    0    0    0    0  \n",
            "3880    0  ...    0    0    0    0    0    0    0    0    0    0  \n",
            "3881    0  ...    0    0    0    0    0    0    0    0    0    0  \n",
            "3882    0  ...    0    0    1    0    0    0    0    0    0    0  \n",
            "\n",
            "[3883 rows x 21 columns]\n",
            "         uID   mID  rating\n",
            "0        744  1210       5\n",
            "1       3040  1584       4\n",
            "2       1451  1293       5\n",
            "3       5455  3176       2\n",
            "4       2507  3074       5\n",
            "...      ...   ...     ...\n",
            "700141  1184  2916       3\n",
            "700142   137  1372       5\n",
            "700143   195  2514       3\n",
            "700144  1676  2566       3\n",
            "700145  4611  1888       1\n",
            "\n",
            "[700146 rows x 3 columns]\n",
            "         uID   mID  rating\n",
            "0       2233   440       4\n",
            "1       4274   587       5\n",
            "2       2498   454       3\n",
            "3       2868  2336       5\n",
            "4       1636  2686       5\n",
            "...      ...   ...     ...\n",
            "300058   810   247       4\n",
            "300059  1193  3210       4\n",
            "300060  6039  2289       4\n",
            "300061  5397   429       3\n",
            "300062  1912   117       4\n",
            "\n",
            "[300063 rows x 3 columns]\n"
          ]
        }
      ]
    },
    {
      "cell_type": "markdown",
      "source": [
        "## Construct a rating matrix"
      ],
      "metadata": {
        "id": "KaYSqYC-me4g"
      }
    },
    {
      "cell_type": "code",
      "source": [
        "# Using elements from class RecSys()\n",
        "from collections import namedtuple\n",
        "from scipy.sparse import coo_matrix, csr_matrix\n",
        "import numpy as np\n",
        "Data = namedtuple('Data', ['users','movies','train','test'])\n",
        "data = Data(MV_users, MV_movies, train, test)\n",
        "mid2idx = dict(zip(data.movies.mID,list(range(len(data.movies)))))\n",
        "uid2idx = dict(zip(data.users.uID,list(range(len(data.users)))))\n",
        "\n",
        "def rating_matrix(data):\n",
        "  ind_movie = [mid2idx[x] for x in data.train.mID]\n",
        "  ind_user = [uid2idx[x] for x in data.train.uID]\n",
        "  rating_train = list(data.train.rating)\n",
        "  allusers = list(data.users['uID'])\n",
        "  allmovies = list(data.movies['mID'])\n",
        "\n",
        "  return np.array(coo_matrix((rating_train, (ind_user, ind_movie)), shape=(len(allusers), len(allmovies))).toarray())\n",
        "\n",
        "r_matrix = rating_matrix(data)\n",
        "print(r_matrix)"
      ],
      "metadata": {
        "colab": {
          "base_uri": "https://localhost:8080/"
        },
        "id": "NomI3Oq3mqSc",
        "outputId": "978d162f-d6f6-4c64-9fa2-5f9fc0a9a2af"
      },
      "execution_count": 6,
      "outputs": [
        {
          "output_type": "stream",
          "name": "stdout",
          "text": [
            "[[5 0 0 ... 0 0 0]\n",
            " [0 0 0 ... 0 0 0]\n",
            " [0 0 0 ... 0 0 0]\n",
            " ...\n",
            " [0 0 0 ... 0 0 0]\n",
            " [0 0 0 ... 0 0 0]\n",
            " [3 0 0 ... 0 0 0]]\n"
          ]
        }
      ]
    },
    {
      "cell_type": "markdown",
      "source": [
        "## For Matrix factorization I will use the features found in the MV_movies dataset"
      ],
      "metadata": {
        "id": "Gy6jZ7tDox80"
      }
    },
    {
      "cell_type": "code",
      "source": [
        "column_list = (MV_movies.columns).to_list()\n",
        "columns_to_remove = ['mID', 'title', 'year']\n",
        "for column in columns_to_remove:\n",
        "  column_list.remove(column)\n",
        "print(\"movie categories: \", column_list)\n",
        "n_components = len(column_list)\n",
        "print(\"number of categories: \", n_components)"
      ],
      "metadata": {
        "colab": {
          "base_uri": "https://localhost:8080/"
        },
        "id": "TJH58iqBo8ZI",
        "outputId": "d5d9a06e-29a2-4f15-bc82-f20580b3d146"
      },
      "execution_count": 7,
      "outputs": [
        {
          "output_type": "stream",
          "name": "stdout",
          "text": [
            "movie categories:  ['Doc', 'Com', 'Hor', 'Adv', 'Wes', 'Dra', 'Ani', 'War', 'Chi', 'Cri', 'Thr', 'Sci', 'Mys', 'Rom', 'Fil', 'Fan', 'Act', 'Mus']\n",
            "number of categories:  18\n"
          ]
        }
      ]
    },
    {
      "cell_type": "markdown",
      "source": [
        "# Use Scikit-learn to do NMF"
      ],
      "metadata": {
        "id": "HCRXIIldtvUJ"
      }
    },
    {
      "cell_type": "code",
      "source": [
        "from sklearn.decomposition import NMF\n",
        "\n",
        "model = NMF(n_components=n_components, init='random', max_iter=400)\n",
        "W = model.fit_transform(r_matrix)\n",
        "H = model.components_"
      ],
      "metadata": {
        "colab": {
          "base_uri": "https://localhost:8080/"
        },
        "id": "2kkSWBE1t0EQ",
        "outputId": "4498ec93-6f51-4533-a28b-25496dae4e93"
      },
      "execution_count": 11,
      "outputs": [
        {
          "output_type": "stream",
          "name": "stderr",
          "text": [
            "/usr/local/lib/python3.10/dist-packages/sklearn/decomposition/_nmf.py:1665: ConvergenceWarning: Maximum number of iterations 400 reached. Increase it to improve convergence.\n",
            "  warnings.warn(\n"
          ]
        }
      ]
    },
    {
      "cell_type": "code",
      "source": [
        "from numpy.lib.index_tricks import r_\n",
        "\n",
        "print(\"W matrix shape: \", W.shape)\n",
        "print(\"H matrix shape: \", H.shape)\n",
        "print(\"Rating matrix shape: \", r_matrix.shape)"
      ],
      "metadata": {
        "colab": {
          "base_uri": "https://localhost:8080/"
        },
        "id": "xlf5NWupvZg4",
        "outputId": "21084be0-d4f6-42fb-b531-545888e340ca"
      },
      "execution_count": 12,
      "outputs": [
        {
          "output_type": "stream",
          "name": "stdout",
          "text": [
            "W matrix shape:  (6040, 18)\n",
            "H matrix shape:  (18, 3883)\n",
            "Rating matrix shape:  (6040, 3883)\n"
          ]
        }
      ]
    },
    {
      "cell_type": "code",
      "source": [
        "# Using the reconstructed matrix to make predictions on the test data\n",
        "\n",
        "def predict_from_W_H(uid, mid):\n",
        "  user_index = uid2idx[uid]\n",
        "  movie_index = mid2idx[mid]\n",
        "  return np.dot(W[user_index, :], H[:, movie_index])\n",
        "\n",
        "y_pred_list = []\n",
        "for user, movie in zip(data.test.uID, data.test.mID):\n",
        "  y_pred_list.append(predict_from_W_H(user, movie))\n",
        "y_pred = np.array(y_pred_list)\n",
        "y_true = (data.test.rating).to_numpy()\n",
        "\n",
        "rmse = np.sqrt(((y_true - y_pred)**2).mean())\n",
        "print(rmse)"
      ],
      "metadata": {
        "colab": {
          "base_uri": "https://localhost:8080/"
        },
        "id": "-fV9_dNHW4A2",
        "outputId": "06451750-f6e1-42c7-d5f6-44f8148fbd59"
      },
      "execution_count": 13,
      "outputs": [
        {
          "output_type": "stream",
          "name": "stdout",
          "text": [
            "2.861111446705944\n"
          ]
        }
      ]
    },
    {
      "cell_type": "markdown",
      "source": [
        "## Some Conclusions:\n",
        "\n",
        "This was my approach:\n",
        "1. Create a rating matrix with the training data. The raiting matrix has lots of zeros since not all users have seen all movies.\n",
        "2. I extract genre information from MV_movies and counts that there are 18 genra in the dataset.\n",
        "3. Then use this number as the number of components that should be use for matrix factorizations given me to matrices:\n",
        "\n",
        "\n",
        "> **number of users x 18**, and **18 x number for movies**\n",
        "\n",
        "\n",
        "4. The predictions were made using dot product between the user values in the W matrix and the movie values in the H matrix\n",
        "5. I then use it to predict ratings in the test set\n",
        "The RMSE was worse than the most simple baseline 2.86 vs 1.29\n",
        "\n",
        "This may be expected since the hypothesis for this to work is that fitting the model should discover the dependencies betweeen the genre, the movies and the users, kind of the model expects that users rate similarly movies mostly/solely depending on the gender. And this is not necesarily true, there are other factors that affect ratings.\n",
        "\n",
        "On way to reduce the RMSE without changing the approach of using genre for find the number for features for the factorization is to use the information in MV_movies to incorporate the genre information. Both including the actual genre information per movie and try to calculate i.e. average rating base in per user per genre."
      ],
      "metadata": {
        "id": "c_EB9SZDaPfx"
      }
    }
  ]
}